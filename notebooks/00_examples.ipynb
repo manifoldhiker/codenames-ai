{
 "cells": [
  {
   "cell_type": "markdown",
   "metadata": {},
   "source": [
    "# Overview"
   ]
  },
  {
   "cell_type": "code",
   "execution_count": 1,
   "metadata": {},
   "outputs": [],
   "source": [
    "import os\n",
    "import sys\n",
    "import random\n",
    "from typing import List, Dict\n",
    "\n",
    "# Add the parent directory to sys.path so Python can find the codenames module\n",
    "sys.path.append('../')\n",
    "# sys.path.insert(0, os.path.abspath(os.path.join(os.path.dirname(__file__), '..')))\n",
    "\n",
    "# Import core game components\n",
    "from codenames.game import CardType, GameEngine, GameState, print_board, board2str\n",
    "from codenames.words import WORD_LIST"
   ]
  },
  {
   "cell_type": "markdown",
   "metadata": {},
   "source": [
    "## Game state"
   ]
  },
  {
   "cell_type": "code",
   "execution_count": 2,
   "metadata": {},
   "outputs": [],
   "source": [
    "# from pprint import pprint\n",
    "# class GameState:\n",
    "#     \"\"\"Represents the current state of a Codenames game\"\"\""
   ]
  },
  {
   "cell_type": "code",
   "execution_count": 3,
   "metadata": {},
   "outputs": [
    {
     "name": "stdout",
     "output_type": "stream",
     "text": [
      "Created new game with ID: 87a846c7\n",
      "\n",
      "==================================================\n",
      "GAME: 87a846c7 game_state.random_seed=0\n",
      "Turn: 1, Current Team: RED\n",
      "RED remaining: 9, BLUE remaining: 8\n",
      "==================================================\n",
      "light         watch         mercury       bark          fire          \n",
      "[BLUE]        [RED]         [ASSASSIN]    [RED]         [RED]         \n",
      "\n",
      "pipe          pants         luck          ham           orange        \n",
      "[BLUE]        [RED]         [RED]         [NEUTRAL]     [BLUE]        \n",
      "\n",
      "key           round         drill         pie           chocolate     \n",
      "[RED]         [RED]         [NEUTRAL]     [NEUTRAL]     [BLUE]        \n",
      "\n",
      "germany       washer        bug           shop          fighter       \n",
      "[NEUTRAL]     [BLUE]        [BLUE]        [RED]         [NEUTRAL]     \n",
      "\n",
      "point         theater       scuba diver   cloak         head          \n",
      "[BLUE]        [BLUE]        [NEUTRAL]     [RED]         [NEUTRAL]     \n",
      "\n",
      "==================================================\n",
      "\n"
     ]
    }
   ],
   "source": [
    "# Initialize the game engine with the standard word list\n",
    "engine = GameEngine(WORD_LIST)\n",
    "\n",
    "# Create a new game (the engine generates a random game ID)\n",
    "game_id = engine.create_game(seed=0)\n",
    "print(f\"Created new game with ID: {game_id}\")\n",
    "game_state = engine.get_game(game_id)\n",
    "print(game_state)\n",
    "# pprint(game_state)"
   ]
  },
  {
   "cell_type": "code",
   "execution_count": 4,
   "metadata": {},
   "outputs": [
    {
     "data": {
      "text/plain": [
       "Card(word='light', type=<CardType.BLUE: 'blue'>, revealed=False)"
      ]
     },
     "execution_count": 4,
     "metadata": {},
     "output_type": "execute_result"
    }
   ],
   "source": [
    "game_state.board[0]"
   ]
  },
  {
   "cell_type": "code",
   "execution_count": 5,
   "metadata": {},
   "outputs": [
    {
     "name": "stdout",
     "output_type": "stream",
     "text": [
      "Card 'banana 🧐🤙 invalid' does not exist on the board\n",
      "Processing clue 'travel' ['watch', 'bark']: Success\n"
     ]
    }
   ],
   "source": [
    "clue_word = \"travel\"\n",
    "clue_number = 2\n",
    "\n",
    "# those are strings! for simplicity, supposedly :) \n",
    "selected_cards = []\n",
    "\n",
    "for card in game_state.board:\n",
    "    if not (card.revealed) and card.type == game_state.current_team:\n",
    "        selected_cards.append(card.word)\n",
    "        \n",
    "        if len(selected_cards) == clue_number:\n",
    "            break\n",
    "\n",
    "# here I show that you will get exception!\n",
    "try:\n",
    "    result = engine.process_clue(game_id, clue_word, ['banana 🧐🤙 invalid'], game_state.current_team)\n",
    "except ValueError as e:\n",
    "    print(e)\n",
    "\n",
    "result = engine.process_clue(game_id, clue_word, selected_cards, game_state.current_team)\n",
    "print(f\"Processing clue '{clue_word}' {selected_cards}: {'Success' if result else 'Failed'}\")"
   ]
  },
  {
   "cell_type": "code",
   "execution_count": 6,
   "metadata": {},
   "outputs": [
    {
     "name": "stdout",
     "output_type": "stream",
     "text": [
      "\n",
      "Turn 1 - RED TEAM\n",
      "Giving clue: 'clue_for_watch' 1\n",
      "{'success': True, 'card_type': 'red', 'end_turn': False}\n",
      "\n",
      "Turn 2 - BLUE TEAM\n",
      "Giving clue: 'clue_for_light' 1\n",
      "{'success': True, 'card_type': 'blue', 'end_turn': False}\n",
      "\n",
      "Turn 3 - RED TEAM\n",
      "Giving clue: 'clue_for_bark' 1\n",
      "{'success': True, 'card_type': 'red', 'end_turn': False}\n",
      "\n",
      "Turn 4 - BLUE TEAM\n",
      "Giving clue: 'clue_for_pipe' 1\n",
      "{'success': True, 'card_type': 'blue', 'end_turn': False}\n",
      "\n",
      "Turn 5 - RED TEAM\n",
      "Giving clue: 'clue_for_fire' 1\n",
      "{'success': True, 'card_type': 'red', 'end_turn': False}\n",
      "\n",
      "Turn 6 - BLUE TEAM\n",
      "Giving clue: 'clue_for_orange' 1\n",
      "{'success': True, 'card_type': 'blue', 'end_turn': False}\n",
      "\n",
      "Turn 7 - RED TEAM\n",
      "Giving clue: 'clue_for_pants' 1\n",
      "{'success': True, 'card_type': 'red', 'end_turn': False}\n",
      "\n",
      "Turn 8 - BLUE TEAM\n",
      "Giving clue: 'clue_for_chocolate' 1\n",
      "{'success': True, 'card_type': 'blue', 'end_turn': False}\n",
      "\n",
      "Turn 9 - RED TEAM\n",
      "Giving clue: 'clue_for_luck' 1\n",
      "{'success': True, 'card_type': 'red', 'end_turn': False}\n",
      "\n",
      "Turn 10 - BLUE TEAM\n",
      "Giving clue: 'clue_for_washer' 1\n",
      "{'success': True, 'card_type': 'blue', 'end_turn': False}\n",
      "\n",
      "Turn 11 - RED TEAM\n",
      "Giving clue: 'clue_for_key' 1\n",
      "{'success': True, 'card_type': 'red', 'end_turn': False}\n",
      "\n",
      "Turn 12 - BLUE TEAM\n",
      "Giving clue: 'clue_for_bug' 1\n",
      "{'success': True, 'card_type': 'blue', 'end_turn': False}\n",
      "\n",
      "Turn 13 - RED TEAM\n",
      "Giving clue: 'clue_for_round' 1\n",
      "{'success': True, 'card_type': 'red', 'end_turn': False}\n",
      "\n",
      "Turn 14 - BLUE TEAM\n",
      "Giving clue: 'clue_for_point' 1\n",
      "{'success': True, 'card_type': 'blue', 'end_turn': False}\n",
      "\n",
      "Turn 15 - RED TEAM\n",
      "Giving clue: 'clue_for_shop' 1\n",
      "{'success': True, 'card_type': 'red', 'end_turn': False}\n",
      "\n",
      "Turn 16 - BLUE TEAM\n",
      "Giving clue: 'clue_for_theater' 1\n",
      "{'success': True, 'card_type': 'blue', 'end_turn': False, 'game_over': True, 'winner': 'blue'}\n",
      "🥳🥳🥳🥳🥳🥳🥳🥳🥳🥳game_state.winner=<CardType.BLUE: 'blue'>\n"
     ]
    }
   ],
   "source": [
    "turn_count = 0\n",
    "\n",
    "while True:\n",
    "    if game_state.winner is not None:\n",
    "        print('🥳'*10 + f'{game_state.winner=}')\n",
    "        break\n",
    "    \n",
    "    turn_count += 1\n",
    "    print(f\"\\nTurn {turn_count} - {game_state.current_team.value.upper()} TEAM\")\n",
    "    current_team = game_state.current_team\n",
    "    \n",
    "    team_cards = []\n",
    "    for card in game_state.board:\n",
    "        if not card.revealed and card.type == current_team:\n",
    "            team_cards.append(card.word)\n",
    "\n",
    "    # Take one card at a time for simplicity\n",
    "    selected_word = team_cards[0]\n",
    "    \n",
    "    # Generate a simple clue (just use the card word itself in this example)\n",
    "    # In a real game, the spymaster would give a clever clue related to the word\n",
    "    clue_word = f\"clue_for_{selected_word}\"\n",
    "    \n",
    "    print(f\"Giving clue: '{clue_word}' 1\")\n",
    "    engine.process_clue(game_id, clue_word, [selected_word], current_team)\n",
    "    \n",
    "\n",
    "    result = engine.process_guess(game_id, guess_word = selected_word, team = current_team)\n",
    "    \n",
    "    print(result)\n",
    "    engine.end_turn(game_id, current_team)\n",
    "    \n",
    "    continue"
   ]
  },
  {
   "cell_type": "markdown",
   "metadata": {},
   "source": [
    "## Debates"
   ]
  },
  {
   "cell_type": "code",
   "execution_count": 7,
   "metadata": {},
   "outputs": [
    {
     "name": "stdout",
     "output_type": "stream",
     "text": [
      "Created new game with ID: 2a0135f1\n",
      "\n",
      "==================================================\n",
      "GAME: 2a0135f1 game_state.random_seed=0\n",
      "Turn: 1, Current Team: RED\n",
      "RED remaining: 9, BLUE remaining: 8\n",
      "==================================================\n",
      "light         watch         mercury       bark          fire          \n",
      "[UNKNOWN]     [UNKNOWN]     [UNKNOWN]     [UNKNOWN]     [UNKNOWN]     \n",
      "\n",
      "pipe          pants         luck          ham           orange        \n",
      "[UNKNOWN]     [UNKNOWN]     [UNKNOWN]     [UNKNOWN]     [UNKNOWN]     \n",
      "\n",
      "key           round         drill         pie           chocolate     \n",
      "[UNKNOWN]     [UNKNOWN]     [UNKNOWN]     [UNKNOWN]     [UNKNOWN]     \n",
      "\n",
      "germany       washer        bug           shop          fighter       \n",
      "[UNKNOWN]     [UNKNOWN]     [UNKNOWN]     [UNKNOWN]     [UNKNOWN]     \n",
      "\n",
      "point         theater       scuba diver   cloak         head          \n",
      "[UNKNOWN]     [UNKNOWN]     [UNKNOWN]     [UNKNOWN]     [UNKNOWN]     \n",
      "\n",
      "==================================================\n",
      "\n"
     ]
    }
   ],
   "source": [
    "# Initialize the game engine with the standard word list\n",
    "engine = GameEngine(WORD_LIST)\n",
    "\n",
    "# Create a new game (the engine generates a random game ID)\n",
    "game_id = engine.create_game(seed = 0)\n",
    "print(f\"Created new game with ID: {game_id}\")\n",
    "full_game_state = engine.get_game(game_id)\n",
    "\n",
    "current_team = full_game_state.current_team\n",
    "team_game_state = full_game_state.get_visible_state(game_state.current_team)\n",
    "\n",
    "print(team_game_state)\n",
    "# pprint(game_state)"
   ]
  },
  {
   "cell_type": "code",
   "execution_count": 8,
   "metadata": {},
   "outputs": [],
   "source": [
    "# (team_game_state.to_dict())"
   ]
  },
  {
   "cell_type": "code",
   "execution_count": 9,
   "metadata": {},
   "outputs": [
    {
     "name": "stdout",
     "output_type": "stream",
     "text": [
      "\n",
      "==================================================\n",
      "GAME: 2a0135f1 game_state.random_seed=0\n",
      "Turn: 1, Current Team: RED\n",
      "RED remaining: 9, BLUE remaining: 8\n",
      "==================================================\n",
      "light         watch         mercury       bark          fire          \n",
      "[BLUE]        [RED]         [ASSASSIN]    [RED]         [RED]         \n",
      "\n",
      "pipe          pants         luck          ham           orange        \n",
      "[BLUE]        [RED]         [RED]         [NEUTRAL]     [BLUE]        \n",
      "\n",
      "key           round         drill         pie           chocolate     \n",
      "[RED]         [RED]         [NEUTRAL]     [NEUTRAL]     [BLUE]        \n",
      "\n",
      "germany       washer        bug           shop          fighter       \n",
      "[NEUTRAL]     [BLUE]        [BLUE]        [RED]         [NEUTRAL]     \n",
      "\n",
      "point         theater       scuba diver   cloak         head          \n",
      "[BLUE]        [BLUE]        [NEUTRAL]     [RED]         [NEUTRAL]     \n",
      "\n",
      "==================================================\n",
      "\n"
     ]
    }
   ],
   "source": [
    "board_state = full_game_state.get_spymaster_state(current_team)\n",
    "print(board_state)"
   ]
  },
  {
   "cell_type": "code",
   "execution_count": 10,
   "metadata": {},
   "outputs": [],
   "source": [
    "from openai import OpenAI\n",
    "from pydantic import BaseModel\n",
    "\n",
    "\n",
    "class SpymasterClue(BaseModel):\n",
    "    selected_words: list[str]\n",
    "    clue: str\n",
    "\n",
    "\n",
    "class SimpleSpymasterAgent:\n",
    "    \"\"\"AI agent that plays as a Spymaster\"\"\"\n",
    "    def __init__(self, team: CardType, model: str = \"gpt-4o\"):\n",
    "        self.team = team\n",
    "        self.model = model\n",
    "\n",
    "\n",
    "    def generate_clue(self, board_state : GameState) -> SpymasterClue:\n",
    "        # Gather words by type\n",
    "        team_words = []\n",
    "        opponent_words = []\n",
    "        assassin_word = \"\"\n",
    "        neutral_words = []\n",
    "\n",
    "        for card in game_state.board:\n",
    "            if not card.revealed:\n",
    "                if card.type == self.team:\n",
    "                    team_words.append(card.word)\n",
    "                elif card.type in [CardType.RED, CardType.BLUE]:\n",
    "                    opponent_words.append(card.word)\n",
    "                elif card.type == CardType.ASSASSIN:\n",
    "                    assassin_word = card.word\n",
    "                else:\n",
    "                    neutral_words.append(card.word)\n",
    "\n",
    "        # Information about game state\n",
    "        team_remaining = len(team_words)\n",
    "        opponent_remaining = len(opponent_words)\n",
    "\n",
    "        prompt = f\"\"\"\n",
    "        You are the {self.team.value} Spymaster in a game of Codenames. You need to give a one-word clue and a number.\n",
    "        The number indicates how many words on the board your clue relates to.\n",
    "\n",
    "        Your team's words to guess: {', '.join(team_words)}\n",
    "        Opponent's words (to avoid): {', '.join(opponent_words)}\n",
    "        Neutral words (to avoid): {', '.join(neutral_words)}\n",
    "        Assassin word (must avoid at all costs): {assassin_word}\n",
    "\n",
    "        Game situation:\n",
    "        - Your team has {team_remaining} words remaining\n",
    "        - Opponent has {opponent_remaining} words remaining\n",
    "\n",
    "        IMPORTANT STRATEGY:\n",
    "        - EFFICIENCY is crucial! Try to connect as many of your team's words as possible with a single clue.\n",
    "        - The faster your team finishes, the higher chance of winning, so aim for high-number clues.\n",
    "        - Prioritize clues that connect 3+ words when possible, even if the connection is more abstract.\n",
    "        - Avoid clues that might lead to the assassin or opponent's words.\n",
    "        - Be creative but clear - your operatives must understand your thinking.\n",
    "\n",
    "        You MUST respond in EXACTLY this format:\n",
    "\n",
    "        TARGETS: [word1], [word2], etc.\n",
    "        CLUE: [your_clue_word]\n",
    "\n",
    "\n",
    "        The TARGETS must be words from your team's list above, and the NUMBER must match the count of TARGETS.\n",
    "        \"\"\"\n",
    "\n",
    "        client = OpenAI()\n",
    "\n",
    "        completion = client.beta.chat.completions.parse(\n",
    "            model=\"gpt-4o-2024-08-06\",\n",
    "            messages=[\n",
    "                {\"role\": \"user\", \"content\": prompt},\n",
    "            ],\n",
    "            response_format=SpymasterClue,\n",
    "        )\n",
    "\n",
    "        clue_model = completion.choices[0].message.parsed\n",
    "        return clue_model"
   ]
  },
  {
   "cell_type": "code",
   "execution_count": 11,
   "metadata": {},
   "outputs": [
    {
     "name": "stdout",
     "output_type": "stream",
     "text": [
      "selected_words=['cloak'] clue='Invisible'\n"
     ]
    }
   ],
   "source": [
    "blue_spymaster = SimpleSpymasterAgent(CardType.BLUE)\n",
    "red_spymaster = SimpleSpymasterAgent(CardType.RED)\n",
    "\n",
    "\n",
    "def get_current_spymaster_agent(game_state, blue_spymaster=blue_spymaster, red_spymaster=red_spymaster):\n",
    "    return blue_spymaster if game_state.current_team == CardType.BLUE else red_spymaster\n",
    "\n",
    "\n",
    "current_spymaster = get_current_spymaster_agent(full_game_state)\n",
    "clue_model = current_spymaster.generate_clue(full_game_state)\n",
    "print(clue_model)"
   ]
  },
  {
   "cell_type": "code",
   "execution_count": 12,
   "metadata": {},
   "outputs": [],
   "source": [
    "clue_word = clue_model.clue\n",
    "clue_n_words = len(clue_model.selected_words)"
   ]
  },
  {
   "cell_type": "code",
   "execution_count": 13,
   "metadata": {},
   "outputs": [
    {
     "name": "stdout",
     "output_type": "stream",
     "text": [
      "\n",
      "==================================================\n",
      "GAME: 2a0135f1 game_state.random_seed=0\n",
      "Turn: 1, Current Team: RED\n",
      "RED remaining: 9, BLUE remaining: 8\n",
      "==================================================\n",
      "light         watch         mercury       bark          fire          \n",
      "[UNKNOWN]     [UNKNOWN]     [UNKNOWN]     [UNKNOWN]     [UNKNOWN]     \n",
      "\n",
      "pipe          pants         luck          ham           orange        \n",
      "[UNKNOWN]     [UNKNOWN]     [UNKNOWN]     [UNKNOWN]     [UNKNOWN]     \n",
      "\n",
      "key           round         drill         pie           chocolate     \n",
      "[UNKNOWN]     [UNKNOWN]     [UNKNOWN]     [UNKNOWN]     [UNKNOWN]     \n",
      "\n",
      "germany       washer        bug           shop          fighter       \n",
      "[UNKNOWN]     [UNKNOWN]     [UNKNOWN]     [UNKNOWN]     [UNKNOWN]     \n",
      "\n",
      "point         theater       scuba diver   cloak         head          \n",
      "[UNKNOWN]     [UNKNOWN]     [UNKNOWN]     [UNKNOWN]     [UNKNOWN]     \n",
      "\n",
      "==================================================\n",
      "\n"
     ]
    }
   ],
   "source": [
    "current_team_state = full_game_state.get_visible_state(current_team)\n",
    "print(current_team_state)"
   ]
  },
  {
   "cell_type": "code",
   "execution_count": 14,
   "metadata": {},
   "outputs": [
    {
     "data": {
      "text/plain": [
       "[Card(word='light', type=<CardType.UNKNOWN: 'unknown'>, revealed=False),\n",
       " Card(word='watch', type=<CardType.UNKNOWN: 'unknown'>, revealed=False),\n",
       " Card(word='mercury', type=<CardType.UNKNOWN: 'unknown'>, revealed=False),\n",
       " Card(word='bark', type=<CardType.UNKNOWN: 'unknown'>, revealed=False),\n",
       " Card(word='fire', type=<CardType.UNKNOWN: 'unknown'>, revealed=False),\n",
       " Card(word='pipe', type=<CardType.UNKNOWN: 'unknown'>, revealed=False),\n",
       " Card(word='pants', type=<CardType.UNKNOWN: 'unknown'>, revealed=False),\n",
       " Card(word='luck', type=<CardType.UNKNOWN: 'unknown'>, revealed=False),\n",
       " Card(word='ham', type=<CardType.UNKNOWN: 'unknown'>, revealed=False),\n",
       " Card(word='orange', type=<CardType.UNKNOWN: 'unknown'>, revealed=False),\n",
       " Card(word='key', type=<CardType.UNKNOWN: 'unknown'>, revealed=False),\n",
       " Card(word='round', type=<CardType.UNKNOWN: 'unknown'>, revealed=False),\n",
       " Card(word='drill', type=<CardType.UNKNOWN: 'unknown'>, revealed=False),\n",
       " Card(word='pie', type=<CardType.UNKNOWN: 'unknown'>, revealed=False),\n",
       " Card(word='chocolate', type=<CardType.UNKNOWN: 'unknown'>, revealed=False),\n",
       " Card(word='germany', type=<CardType.UNKNOWN: 'unknown'>, revealed=False),\n",
       " Card(word='washer', type=<CardType.UNKNOWN: 'unknown'>, revealed=False),\n",
       " Card(word='bug', type=<CardType.UNKNOWN: 'unknown'>, revealed=False),\n",
       " Card(word='shop', type=<CardType.UNKNOWN: 'unknown'>, revealed=False),\n",
       " Card(word='fighter', type=<CardType.UNKNOWN: 'unknown'>, revealed=False),\n",
       " Card(word='point', type=<CardType.UNKNOWN: 'unknown'>, revealed=False),\n",
       " Card(word='theater', type=<CardType.UNKNOWN: 'unknown'>, revealed=False),\n",
       " Card(word='scuba diver', type=<CardType.UNKNOWN: 'unknown'>, revealed=False),\n",
       " Card(word='cloak', type=<CardType.UNKNOWN: 'unknown'>, revealed=False),\n",
       " Card(word='head', type=<CardType.UNKNOWN: 'unknown'>, revealed=False)]"
      ]
     },
     "execution_count": 14,
     "metadata": {},
     "output_type": "execute_result"
    }
   ],
   "source": [
    "current_team_state.board"
   ]
  },
  {
   "cell_type": "code",
   "execution_count": 15,
   "metadata": {},
   "outputs": [],
   "source": [
    "unrevealed_words = []\n",
    "revealed_words = []\n",
    "\n",
    "for card in current_team_state.board:\n",
    "    if card.revealed:\n",
    "        revealed_words.append(card)\n",
    "    else:\n",
    "        unrevealed_words.append(card.word)"
   ]
  },
  {
   "cell_type": "code",
   "execution_count": null,
   "metadata": {},
   "outputs": [],
   "source": []
  },
  {
   "cell_type": "code",
   "execution_count": 16,
   "metadata": {},
   "outputs": [
    {
     "name": "stdout",
     "output_type": "stream",
     "text": [
      "\n",
      "==================================================\n",
      "GAME: 2a0135f1 game_state.random_seed=0\n",
      "Turn: 1, Current Team: RED\n",
      "RED remaining: 9, BLUE remaining: 8\n",
      "==================================================\n",
      "light         watch         mercury       bark          fire          \n",
      "[UNKNOWN]     [UNKNOWN]     [UNKNOWN]     [UNKNOWN]     [UNKNOWN]     \n",
      "\n",
      "pipe          pants         luck          ham           orange        \n",
      "[UNKNOWN]     [UNKNOWN]     [UNKNOWN]     [UNKNOWN]     [UNKNOWN]     \n",
      "\n",
      "key           round         drill         pie           chocolate     \n",
      "[UNKNOWN]     [UNKNOWN]     [UNKNOWN]     [UNKNOWN]     [UNKNOWN]     \n",
      "\n",
      "germany       washer        bug           shop          fighter       \n",
      "[UNKNOWN]     [UNKNOWN]     [UNKNOWN]     [UNKNOWN]     [UNKNOWN]     \n",
      "\n",
      "point         theater       scuba diver   cloak         head          \n",
      "[UNKNOWN]     [UNKNOWN]     [UNKNOWN]     [UNKNOWN]     [UNKNOWN]     \n",
      "\n",
      "==================================================\n",
      "\n"
     ]
    }
   ],
   "source": [
    "print(current_team_state)"
   ]
  },
  {
   "cell_type": "code",
   "execution_count": 17,
   "metadata": {},
   "outputs": [],
   "source": [
    "class SimpleOperativeAgent:\n",
    "    \"\"\"AI agent that plays as a Operative\"\"\"\n",
    "    def __init__(self, team: CardType, name = 'Smith', model: str = \"gpt-4o\"):\n",
    "\n",
    "        self.name = str(name)\n",
    "        self.team = team\n",
    "        self.model = model\n",
    "\n",
    "    def generate(self, clue_word, clue_n_words, debate_history, max_completion_tokens=100):\n",
    "        prompt = f\"\"\"\n",
    "        You are participating in a team debate for Codenames as the {self.team.value} Operative. Your name is {self.name}\n",
    "        Your Spymaster has given the clue '{clue_word}' {clue_n_words}.\n",
    "\n",
    "        DEBATE SO FAR:\n",
    "        {debate_history}\n",
    "\n",
    "        CURRENT BOARD:\n",
    "        Unrevealed words: {unrevealed_words}\n",
    "        Revealed words: {revealed_words}\n",
    "\n",
    "        As a team member, respond to the ongoing debate. You should:\n",
    "        1. State your current opinion about the best guess\n",
    "        2. Respond directly to points made by other team members\n",
    "        3. Explain your reasoning clearly\n",
    "        4. If you've changed your mind based on others' arguments, explain why\n",
    "        5. Focus on resolving disagreements on words without support from all operatives.\n",
    "\n",
    "        You MUST keep your response under {max_completion_tokens} words. Your response should include reasoning and your best guess.\n",
    "        \"\"\"\n",
    "        client = OpenAI()\n",
    "        completion = client.chat.completions.create(\n",
    "            model=\"gpt-4o-2024-08-06\",\n",
    "            messages=[\n",
    "                {\"role\": \"user\", \"content\": prompt},\n",
    "            ],\n",
    "            max_completion_tokens=max_completion_tokens\n",
    "        )\n",
    "\n",
    "        response = completion.choices[0].message\n",
    "        return response.content"
   ]
  },
  {
   "cell_type": "code",
   "execution_count": 18,
   "metadata": {},
   "outputs": [],
   "source": [
    "operatives = [SimpleOperativeAgent(current_team, f\"Operative {i}\") for i in range(2)]"
   ]
  },
  {
   "cell_type": "code",
   "execution_count": 19,
   "metadata": {},
   "outputs": [
    {
     "name": "stdout",
     "output_type": "stream",
     "text": [
      "****************************************************************************************************\n",
      "Turn 0\n",
      "Operative Operative 0 says:\n",
      "I believe \"cloak\" is the best guess for the clue \"Invisible\". A cloak is often associated with invisibility, especially in fantasy contexts (e.g., an invisibility cloak in stories like Harry Potter). No other words on the board directly relate to something being invisible. If anyone has a different perspective, please share, but \"cloak\" seems like the closest match for me. Let's consider other clues if we still have doubts, but for now, \"cloak\" directly links to the concept of\n",
      "Operative Operative 1 says:\n",
      "Given the clue \"Invisible\" 1, my best guess is \"cloak.\" Cloaks are often described as invisibility cloaks in popular culture, which aligns directly with being invisible. I haven't heard from any of you yet, but I believe \"cloak\" stands out as the most direct connection. Words like \"light\" or \"watch\" could relate to the concept of invisibility in other less direct ways, but \"cloak\" specifically suggests invisibility in a more obvious manner. I'm open to\n",
      "****************************************************************************************************\n",
      "Turn 1\n",
      "Operative Operative 0 says:\n",
      "I agree with both of you that \"cloak\" is the best guess for the clue \"Invisible.\" The association with invisibility cloaks in stories like Harry Potter is strong and direct. While alternatives like \"light\" or \"watch\" could metaphorically relate to invisibility, they are less straightforward. Both of you have reinforced my initial instinct to choose \"cloak.\" Given our clue count of 1, indicating only one word should be selected, \"cloak\" aligns well with being an obvious match to\n",
      "Operative Operative 1 says:\n",
      "I concur with \"cloak\" for \"Invisible\" 1. Operative 0 and I both recognize cloaks' invisibility ties in media like Harry Potter. While \"light\" or \"watch\" could indirectly relate to invisibility, \"cloak\" captures the essence directly. No other term on the board seems purposefully linked to invisibility. I haven't changed my mind—Operative 0 and I are aligned. This shared consensus supports \"cloak\" as the best guess, aligning clearly with\n",
      "****************************************************************************************************\n",
      "Turn 2\n",
      "Operative Operative 0 says:\n",
      "I strongly support guessing \"cloak\" for the clue \"Invisible.\" Both Operative 1 and I view \"cloak\" as directly connected to invisibility, especially in contexts like the invisibility cloak from Harry Potter. Alternatives like \"light\" or \"watch\" are more abstract and less direct. No other words seem tied to invisibility as clearly as \"cloak\" does. Our consensus strengthens my confidence in choosing \"cloak,\" and the single clue reinforces focusing on this straightforward link. Let's proceed with \"\n",
      "Operative Operative 1 says:\n",
      "I maintain that \"cloak\" is the optimal choice for the clue \"Invisible\" 1, as it directly associates with invisibility in popular media like Harry Potter. Both Operative 0 and I have mutually reinforced this perspective. Alternatives like \"light\" or \"watch\" seem metaphorically related but lack the direct connection. Given our unanimous agreement and the clue count of 1, \"cloak\" is the most fitting word. This consensus among us ensures \"cloak\" is the strongest match for the\n"
     ]
    }
   ],
   "source": [
    "MAX_TURNS = 3\n",
    "debate_history = []\n",
    "\n",
    "\n",
    "for turn_i in range(MAX_TURNS):\n",
    "    print('*'*100)\n",
    "    print(f'Turn {turn_i}')\n",
    "    \n",
    "    this_turn_reasoning = {}\n",
    "    for op in operatives:\n",
    "        reasoning = op.generate(clue_word, clue_n_words, debate_history)\n",
    "        this_turn_reasoning[op.name] = reasoning\n",
    "        \n",
    "        print(f'Operative {op.name} says:')\n",
    "        print(reasoning)    \n",
    "\n",
    "    \n",
    "    \n",
    "    debate_history.append(this_turn_reasoning)"
   ]
  },
  {
   "cell_type": "code",
   "execution_count": 20,
   "metadata": {},
   "outputs": [
    {
     "name": "stdout",
     "output_type": "stream",
     "text": [
      "\n",
      "You are participating in a team debate for Codenames Judge.\n",
      "You are given responses from operatives affiliated with team CardType.RED\n",
      "Spymaster has given the clue 'Invisible' 1.\n",
      "\n",
      "debate_history=[{'Operative 0': 'I believe \"cloak\" is the best guess for the clue \"Invisible\". A cloak is often associated with invisibility, especially in fantasy contexts (e.g., an invisibility cloak in stories like Harry Potter). No other words on the board directly relate to something being invisible. If anyone has a different perspective, please share, but \"cloak\" seems like the closest match for me. Let\\'s consider other clues if we still have doubts, but for now, \"cloak\" directly links to the concept of', 'Operative 1': 'Given the clue \"Invisible\" 1, my best guess is \"cloak.\" Cloaks are often described as invisibility cloaks in popular culture, which aligns directly with being invisible. I haven\\'t heard from any of you yet, but I believe \"cloak\" stands out as the most direct connection. Words like \"light\" or \"watch\" could relate to the concept of invisibility in other less direct ways, but \"cloak\" specifically suggests invisibility in a more obvious manner. I\\'m open to'}, {'Operative 0': 'I agree with both of you that \"cloak\" is the best guess for the clue \"Invisible.\" The association with invisibility cloaks in stories like Harry Potter is strong and direct. While alternatives like \"light\" or \"watch\" could metaphorically relate to invisibility, they are less straightforward. Both of you have reinforced my initial instinct to choose \"cloak.\" Given our clue count of 1, indicating only one word should be selected, \"cloak\" aligns well with being an obvious match to', 'Operative 1': 'I concur with \"cloak\" for \"Invisible\" 1. Operative 0 and I both recognize cloaks\\' invisibility ties in media like Harry Potter. While \"light\" or \"watch\" could indirectly relate to invisibility, \"cloak\" captures the essence directly. No other term on the board seems purposefully linked to invisibility. I haven\\'t changed my mind—Operative 0 and I are aligned. This shared consensus supports \"cloak\" as the best guess, aligning clearly with'}, {'Operative 0': 'I strongly support guessing \"cloak\" for the clue \"Invisible.\" Both Operative 1 and I view \"cloak\" as directly connected to invisibility, especially in contexts like the invisibility cloak from Harry Potter. Alternatives like \"light\" or \"watch\" are more abstract and less direct. No other words seem tied to invisibility as clearly as \"cloak\" does. Our consensus strengthens my confidence in choosing \"cloak,\" and the single clue reinforces focusing on this straightforward link. Let\\'s proceed with \"', 'Operative 1': 'I maintain that \"cloak\" is the optimal choice for the clue \"Invisible\" 1, as it directly associates with invisibility in popular media like Harry Potter. Both Operative 0 and I have mutually reinforced this perspective. Alternatives like \"light\" or \"watch\" seem metaphorically related but lack the direct connection. Given our unanimous agreement and the clue count of 1, \"cloak\" is the most fitting word. This consensus among us ensures \"cloak\" is the strongest match for the'}]\n",
      "\n",
      "You must return two lists: guesses where operatives agree, and where they disagree. List with words where operatives agree should be sorted by level of their agreement and confidence.\n",
      "\n"
     ]
    }
   ],
   "source": [
    "class DebateJudge(BaseModel):\n",
    "    reasoning: str\n",
    "    words_where_operatives_agree: list[str]\n",
    "    words_where_operatives_disagree: list[str]\n",
    "\n",
    "\n",
    "prompt = f\"\"\"\n",
    "You are participating in a team debate for Codenames Judge.\n",
    "You are given responses from operatives affiliated with team {current_team}\n",
    "Spymaster has given the clue '{clue_word}' {clue_n_words}.\n",
    "\n",
    "{debate_history=}\n",
    "\n",
    "You must return two lists: guesses where operatives agree, and where they disagree. List with words where operatives agree should be sorted by level of their agreement and confidence.\n",
    "\"\"\"\n",
    "\n",
    "print(prompt)\n",
    "client = OpenAI()\n",
    "completion = client.beta.chat.completions.parse(\n",
    "    model=\"gpt-4o-2024-08-06\",\n",
    "    messages=[\n",
    "        {\"role\": \"user\", \"content\": prompt},\n",
    "    ],\n",
    "    response_format=DebateJudge,\n",
    ")\n",
    "\n",
    "debate_model = completion.choices[0].message.parsed\n",
    "\n",
    "response = completion.choices[0].message\n",
    "\n"
   ]
  },
  {
   "cell_type": "code",
   "execution_count": 21,
   "metadata": {},
   "outputs": [
    {
     "data": {
      "text/plain": [
       "(['cloak'], [])"
      ]
     },
     "execution_count": 21,
     "metadata": {},
     "output_type": "execute_result"
    }
   ],
   "source": [
    "debate_model.words_where_operatives_agree, debate_model.words_where_operatives_disagree"
   ]
  },
  {
   "cell_type": "code",
   "execution_count": 22,
   "metadata": {},
   "outputs": [
    {
     "name": "stdout",
     "output_type": "stream",
     "text": [
      "From the debate history, it's clear that both operatives have expressed a unanimous agreement on the word \"cloak\" in response to the clue \"Invisible\" 1. They consistently use similar reasoning when justifying their choice and do not propose any alternatives that they seriously consider. Despite mentioning other words, such as \"light\" and \"watch,\" they quickly dismiss these as less relevant, cementing their focus on \"cloak\" as their unanimous choice.\n",
      "\n",
      "In analyzing this history, the agreement is strong, repeated, and mutually confirmed by both operatives across different statements. There are no disagreements present in their discussion as they both align completely on the word \"cloak.\"\n"
     ]
    }
   ],
   "source": [
    "print(debate_model.reasoning)"
   ]
  },
  {
   "cell_type": "code",
   "execution_count": 23,
   "metadata": {},
   "outputs": [
    {
     "name": "stdout",
     "output_type": "stream",
     "text": [
      "Giving clue: 'Invisible' ['cloak']\n"
     ]
    },
    {
     "data": {
      "text/plain": [
       "True"
      ]
     },
     "execution_count": 23,
     "metadata": {},
     "output_type": "execute_result"
    }
   ],
   "source": [
    "print(f\"Giving clue: '{clue_word}' {clue_model.selected_words}\")\n",
    "engine.process_clue(game_id, clue_word, clue_model.selected_words, current_team)"
   ]
  },
  {
   "cell_type": "code",
   "execution_count": null,
   "metadata": {},
   "outputs": [],
   "source": []
  },
  {
   "cell_type": "code",
   "execution_count": 24,
   "metadata": {},
   "outputs": [
    {
     "name": "stdout",
     "output_type": "stream",
     "text": [
      "submitting guess: cloak {'success': True, 'card_type': 'red', 'end_turn': False}\n"
     ]
    }
   ],
   "source": [
    "for selected_word in debate_model.words_where_operatives_agree:\n",
    "    \n",
    "\n",
    "\n",
    "    result = engine.process_guess(game_id, guess_word = selected_word, team = current_team)\n",
    "    print(f'submitting guess: {selected_word}', result)\n",
    "# engine.end_turn(game_id, current_team)"
   ]
  },
  {
   "cell_type": "code",
   "execution_count": null,
   "metadata": {},
   "outputs": [],
   "source": []
  },
  {
   "cell_type": "code",
   "execution_count": null,
   "metadata": {},
   "outputs": [],
   "source": []
  }
 ],
 "metadata": {
  "kernelspec": {
   "display_name": "base",
   "language": "python",
   "name": "python3"
  },
  "language_info": {
   "codemirror_mode": {
    "name": "ipython",
    "version": 3
   },
   "file_extension": ".py",
   "mimetype": "text/x-python",
   "name": "python",
   "nbconvert_exporter": "python",
   "pygments_lexer": "ipython3",
   "version": "3.11.4"
  }
 },
 "nbformat": 4,
 "nbformat_minor": 2
}
