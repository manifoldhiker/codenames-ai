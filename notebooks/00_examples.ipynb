{
 "cells": [
  {
   "cell_type": "markdown",
   "metadata": {},
   "source": [
    "# Overview"
   ]
  },
  {
   "cell_type": "code",
   "execution_count": 33,
   "metadata": {},
   "outputs": [],
   "source": [
    "import os\n",
    "import sys\n",
    "import random\n",
    "from typing import List, Dict\n",
    "\n",
    "# Add the parent directory to sys.path so Python can find the codenames module\n",
    "sys.path.append('../')\n",
    "# sys.path.insert(0, os.path.abspath(os.path.join(os.path.dirname(__file__), '..')))\n",
    "\n",
    "# Import core game components\n",
    "from codenames.game import CardType, GameEngine, GameState, print_board\n",
    "from codenames.words import WORD_LIST"
   ]
  },
  {
   "cell_type": "markdown",
   "metadata": {},
   "source": [
    "## Game state"
   ]
  },
  {
   "cell_type": "code",
   "execution_count": 34,
   "metadata": {},
   "outputs": [],
   "source": [
    "# from pprint import pprint\n",
    "# class GameState:\n",
    "#     \"\"\"Represents the current state of a Codenames game\"\"\""
   ]
  },
  {
   "cell_type": "code",
   "execution_count": 35,
   "metadata": {},
   "outputs": [
    {
     "name": "stdout",
     "output_type": "stream",
     "text": [
      "Created new game with ID: 7a3b5ef4\n",
      "\n",
      "==================================================\n",
      "GAME: 7a3b5ef4\n",
      "Turn: 1, Current Team: RED\n",
      "RED remaining: 9, BLUE remaining: 8\n",
      "==================================================\n",
      "light         watch         mercury       bark          fire          \n",
      "[1]           [2]           [3]           [4]           [5]           \n",
      "\n",
      "pipe          pants         luck          ham           orange        \n",
      "[6]           [7]           [8]           [9]           [10]          \n",
      "\n",
      "key           round         drill         pie           chocolate     \n",
      "[11]          [12]          [13]          [14]          [15]          \n",
      "\n",
      "germany       washer        bug           shop          fighter       \n",
      "[16]          [17]          [18]          [19]          [20]          \n",
      "\n",
      "point         theater       scuba diver   cloak         head          \n",
      "[21]          [22]          [23]          [24]          [25]          \n",
      "\n",
      "==================================================\n",
      "\n"
     ]
    }
   ],
   "source": [
    "# Initialize the game engine with the standard word list\n",
    "engine = GameEngine(WORD_LIST)\n",
    "\n",
    "# Create a new game (the engine generates a random game ID)\n",
    "game_id = engine.create_game(seed=0)\n",
    "print(f\"Created new game with ID: {game_id}\")\n",
    "game_state = engine.get_game(game_id)\n",
    "print_board(game_state)\n",
    "# pprint(game_state)"
   ]
  },
  {
   "cell_type": "code",
   "execution_count": 36,
   "metadata": {},
   "outputs": [
    {
     "data": {
      "text/plain": [
       "Card(word='light', type=<CardType.BLUE: 'blue'>, revealed=False)"
      ]
     },
     "execution_count": 36,
     "metadata": {},
     "output_type": "execute_result"
    }
   ],
   "source": [
    "game_state.board[0]"
   ]
  },
  {
   "cell_type": "code",
   "execution_count": 37,
   "metadata": {},
   "outputs": [
    {
     "name": "stdout",
     "output_type": "stream",
     "text": [
      "Card 'banana 🧐🤙 invalid' does not exist on the board\n",
      "Processing clue 'travel' ['watch', 'bark']: Success\n"
     ]
    }
   ],
   "source": [
    "clue_word = \"travel\"\n",
    "clue_number = 2\n",
    "\n",
    "# those are strings! for simplicitly, supposedly :) \n",
    "selected_cards = []\n",
    "\n",
    "for card in game_state.board:\n",
    "    if not (card.revealed) and card.type == game_state.current_team:\n",
    "        selected_cards.append(card.word)\n",
    "        \n",
    "        if len(selected_cards) == clue_number:\n",
    "            break\n",
    "\n",
    "# here I show that you will get exception!\n",
    "try:\n",
    "    result = engine.process_clue(game_id, clue_word, ['banana 🧐🤙 invalid'], game_state.current_team)\n",
    "except ValueError as e:\n",
    "    print(e)\n",
    "\n",
    "result = engine.process_clue(game_id, clue_word, selected_cards, game_state.current_team)\n",
    "print(f\"Processing clue '{clue_word}' {selected_cards}: {'Success' if result else 'Failed'}\")"
   ]
  },
  {
   "cell_type": "code",
   "execution_count": 38,
   "metadata": {},
   "outputs": [
    {
     "name": "stdout",
     "output_type": "stream",
     "text": [
      "\n",
      "Turn 1 - RED TEAM\n",
      "Giving clue: 'clue_for_watch' 1\n",
      "{'success': True, 'card_type': 'red', 'end_turn': False}\n",
      "\n",
      "Turn 2 - BLUE TEAM\n",
      "Giving clue: 'clue_for_light' 1\n",
      "{'success': True, 'card_type': 'blue', 'end_turn': False}\n",
      "\n",
      "Turn 3 - RED TEAM\n",
      "Giving clue: 'clue_for_bark' 1\n",
      "{'success': True, 'card_type': 'red', 'end_turn': False}\n",
      "\n",
      "Turn 4 - BLUE TEAM\n",
      "Giving clue: 'clue_for_pipe' 1\n",
      "{'success': True, 'card_type': 'blue', 'end_turn': False}\n",
      "\n",
      "Turn 5 - RED TEAM\n",
      "Giving clue: 'clue_for_fire' 1\n",
      "{'success': True, 'card_type': 'red', 'end_turn': False}\n",
      "\n",
      "Turn 6 - BLUE TEAM\n",
      "Giving clue: 'clue_for_orange' 1\n",
      "{'success': True, 'card_type': 'blue', 'end_turn': False}\n",
      "\n",
      "Turn 7 - RED TEAM\n",
      "Giving clue: 'clue_for_pants' 1\n",
      "{'success': True, 'card_type': 'red', 'end_turn': False}\n",
      "\n",
      "Turn 8 - BLUE TEAM\n",
      "Giving clue: 'clue_for_chocolate' 1\n",
      "{'success': True, 'card_type': 'blue', 'end_turn': False}\n",
      "\n",
      "Turn 9 - RED TEAM\n",
      "Giving clue: 'clue_for_luck' 1\n",
      "{'success': True, 'card_type': 'red', 'end_turn': False}\n",
      "\n",
      "Turn 10 - BLUE TEAM\n",
      "Giving clue: 'clue_for_washer' 1\n",
      "{'success': True, 'card_type': 'blue', 'end_turn': False}\n",
      "\n",
      "Turn 11 - RED TEAM\n",
      "Giving clue: 'clue_for_key' 1\n",
      "{'success': True, 'card_type': 'red', 'end_turn': False}\n",
      "\n",
      "Turn 12 - BLUE TEAM\n",
      "Giving clue: 'clue_for_bug' 1\n",
      "{'success': True, 'card_type': 'blue', 'end_turn': False}\n",
      "\n",
      "Turn 13 - RED TEAM\n",
      "Giving clue: 'clue_for_round' 1\n",
      "{'success': True, 'card_type': 'red', 'end_turn': False}\n",
      "\n",
      "Turn 14 - BLUE TEAM\n",
      "Giving clue: 'clue_for_point' 1\n",
      "{'success': True, 'card_type': 'blue', 'end_turn': False}\n",
      "\n",
      "Turn 15 - RED TEAM\n",
      "Giving clue: 'clue_for_shop' 1\n",
      "{'success': True, 'card_type': 'red', 'end_turn': False}\n",
      "\n",
      "Turn 16 - BLUE TEAM\n",
      "Giving clue: 'clue_for_theater' 1\n",
      "{'success': True, 'card_type': 'blue', 'end_turn': False, 'game_over': True, 'winner': 'blue'}\n",
      "🥳🥳🥳🥳🥳🥳🥳🥳🥳🥳game_state.winner=<CardType.BLUE: 'blue'>\n"
     ]
    }
   ],
   "source": [
    "turn_count = 0\n",
    "\n",
    "while True:\n",
    "    if game_state.winner is not None:\n",
    "        print('🥳'*10 + f'{game_state.winner=}')\n",
    "        break\n",
    "    \n",
    "    turn_count += 1\n",
    "    print(f\"\\nTurn {turn_count} - {game_state.current_team.value.upper()} TEAM\")\n",
    "    current_team = game_state.current_team\n",
    "    \n",
    "    team_cards = []\n",
    "    for card in game_state.board:\n",
    "        if not card.revealed and card.type == current_team:\n",
    "            team_cards.append(card.word)\n",
    "\n",
    "    # Take one card at a time for simplicity\n",
    "    selected_word = team_cards[0]\n",
    "    \n",
    "    # Generate a simple clue (just use the card word itself in this example)\n",
    "    # In a real game, the spymaster would give a clever clue related to the word\n",
    "    clue_word = f\"clue_for_{selected_word}\"\n",
    "    \n",
    "    print(f\"Giving clue: '{clue_word}' 1\")\n",
    "    engine.process_clue(game_id, clue_word, [selected_word], current_team)\n",
    "    \n",
    "\n",
    "    result = engine.process_guess(game_id, guess_word = selected_word, team = current_team)\n",
    "    \n",
    "    print(result)\n",
    "    engine.end_turn(game_id, current_team)\n",
    "    \n",
    "    continue"
   ]
  },
  {
   "cell_type": "code",
   "execution_count": null,
   "metadata": {},
   "outputs": [],
   "source": []
  },
  {
   "cell_type": "code",
   "execution_count": null,
   "metadata": {},
   "outputs": [],
   "source": []
  }
 ],
 "metadata": {
  "kernelspec": {
   "display_name": "base",
   "language": "python",
   "name": "python3"
  },
  "language_info": {
   "codemirror_mode": {
    "name": "ipython",
    "version": 3
   },
   "file_extension": ".py",
   "mimetype": "text/x-python",
   "name": "python",
   "nbconvert_exporter": "python",
   "pygments_lexer": "ipython3",
   "version": "3.11.4"
  }
 },
 "nbformat": 4,
 "nbformat_minor": 2
}
